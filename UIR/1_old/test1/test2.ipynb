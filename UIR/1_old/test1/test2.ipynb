{
 "cells": [
  {
   "cell_type": "code",
   "execution_count": 28,
   "metadata": {},
   "outputs": [],
   "source": [
    "from typing import Any\n",
    "\n",
    "\n",
    "class Word:\n",
    "    def __init__(self, word, initial_form_word=None, part_speech=None, time=None, genus=None, number=None, case=None, animacy=None,\n",
    "                comparison=None, brevity=None, representation=None, inclination=None, aspect=None, face=None, voice=None, additional_feature=None) -> None:\n",
    "        self.word = word #слово\n",
    "        self.initial_form_word = initial_form_word #начальная форма слова\n",
    "        self.part_speech = part_speech #часть речи\n",
    "        self.time = time #время\n",
    "        self.genus = genus #род\n",
    "        self.number = number #число\n",
    "        self.case = case #падеж\n",
    "        self.animacy = animacy #одушевлённость\n",
    "        self.comparison = comparison #сравнение\n",
    "        self.brevity = brevity #краткость\n",
    "        self.representation = representation #репрезентация\n",
    "        self.inclination = inclination #наклонение\n",
    "        self.aspect = aspect #вид\n",
    "        self.face = face #лицо\n",
    "        self.voice = voice #залог\n",
    "        self.additional_feature = additional_feature #дополнительные характеристики\n",
    "\n",
    "    def __repr__(self):\n",
    "        return f\"{self.word}\"\n",
    "\n",
    "class NodeWord:\n",
    "    def __init__(self, word: Word, index: int) -> None:\n",
    "        self.word = word\n",
    "        self.index = index\n",
    "\n",
    "    def __repr__(self):\n",
    "        return f\"{self.word}\"\n",
    "\n",
    "class Edge:\n",
    "    def __init__(self, start, end, mark=None) -> None:\n",
    "        self.start = start\n",
    "        self.end = end\n",
    "        self.mark = mark\n",
    "\n",
    "    def __repr__(self):\n",
    "        return f\"({self.start}, {self.end})\"\n",
    "\n",
    "class SyntacticTree:\n",
    "    def __init__(self, list_NodeWord, list_Edge, root: int, sentence: str) -> None:\n",
    "        self.list_NodeWord = list_NodeWord\n",
    "        self.list_Edge = list_Edge\n",
    "        self.root = root\n",
    "        self.sentence = sentence"
   ]
  },
  {
   "cell_type": "code",
   "execution_count": 18,
   "metadata": {},
   "outputs": [
    {
     "data": {
      "text/plain": [
       "[0, 4]"
      ]
     },
     "execution_count": 18,
     "metadata": {},
     "output_type": "execute_result"
    }
   ],
   "source": [
    "from itertools import combinations\n",
    "\n",
    "def get_combinations(numbers):\n",
    "    combinations = []\n",
    "    for i in range(1, len(numbers) + 1):\n",
    "        for combination in combinations(numbers, i):\n",
    "            combinations.append(sorted(combination))\n",
    "\n",
    "    return combinations\n",
    "\n",
    "def get_subtrees(tree: SyntacticTree, owner: int):\n",
    "    owner = tree.list_NodeWord[owner].index\n",
    "    servants = []\n",
    "    for Edge in tree.list_Edge:\n",
    "        if Edge.start == owner:\n",
    "            servants.append(Edge.end)\n",
    "\n",
    "    if len(servants) > 0:\n",
    "        subtrees = []\n",
    "        sub_servants = servants\n",
    "        for i_owner in servants:\n",
    "            sub_servants = get_subtrees(tree, i_owner)\n",
    "            #subtrees.append(get_combinations(sub_servants))\n",
    "            subtrees.extend(sub_servants)\n",
    "        return subtrees\n",
    "    else:\n",
    "        subtrees = [owner]\n",
    "        return subtrees\n",
    "\n",
    "list_NodeWord = [\n",
    "    NodeWord(Word(\"Красивый\"), 0),\n",
    "    NodeWord(Word(\"мальчик\"), 1),\n",
    "    NodeWord(Word(\"пошёл\"), 2),\n",
    "    NodeWord(Word(\"в\"), 3),\n",
    "    NodeWord(Word(\"парк\"), 4),\n",
    "    #NodeWord(Word(\"test1\"), 5),\n",
    "    #NodeWord(Word(\"test2\"), 6)\n",
    "]\n",
    "\n",
    "# Создаём список рёбер\n",
    "list_Edge = [\n",
    "    Edge(2, 1),\n",
    "    Edge(2, 3),\n",
    "    Edge(3, 4),\n",
    "    Edge(1, 0),\n",
    "    #Edge(4, 5),\n",
    "    #Edge(4, 6)\n",
    "]\n",
    "\n",
    "tree = SyntacticTree(list_NodeWord, list_Edge, 2, \"Красивый мальчик пошёл гулять\")\n",
    "\n",
    "get_subtrees(tree, 2)"
   ]
  },
  {
   "cell_type": "code",
   "execution_count": 33,
   "metadata": {},
   "outputs": [
    {
     "ename": "TypeError",
     "evalue": "'Edge' object is not callable",
     "output_type": "error",
     "traceback": [
      "\u001b[1;31m---------------------------------------------------------------------------\u001b[0m",
      "\u001b[1;31mTypeError\u001b[0m                                 Traceback (most recent call last)",
      "Cell \u001b[1;32mIn[33], line 13\u001b[0m\n\u001b[0;32m      1\u001b[0m NodeWords \u001b[39m=\u001b[39m [\n\u001b[0;32m      2\u001b[0m     NodeWord(Word(\u001b[39m\"\u001b[39m\u001b[39mКрасивый\u001b[39m\u001b[39m\"\u001b[39m), \u001b[39m0\u001b[39m),\n\u001b[0;32m      3\u001b[0m     NodeWord(Word(\u001b[39m\"\u001b[39m\u001b[39mмальчик\u001b[39m\u001b[39m\"\u001b[39m), \u001b[39m1\u001b[39m),\n\u001b[1;32m   (...)\u001b[0m\n\u001b[0;32m      8\u001b[0m     \u001b[39m#NodeWord(Word(\"test2\"), 6)\u001b[39;00m\n\u001b[0;32m      9\u001b[0m ]\n\u001b[0;32m     11\u001b[0m \u001b[39m# Создаём список рёбер\u001b[39;00m\n\u001b[0;32m     12\u001b[0m Edges \u001b[39m=\u001b[39m [\n\u001b[1;32m---> 13\u001b[0m     Edge(\u001b[39m2\u001b[39;49m, \u001b[39m1\u001b[39;49m),\n\u001b[0;32m     14\u001b[0m     Edge(\u001b[39m2\u001b[39m, \u001b[39m3\u001b[39m),\n\u001b[0;32m     15\u001b[0m     Edge(\u001b[39m3\u001b[39m, \u001b[39m4\u001b[39m),\n\u001b[0;32m     16\u001b[0m     Edge(\u001b[39m1\u001b[39m, \u001b[39m0\u001b[39m)\n\u001b[0;32m     17\u001b[0m     \u001b[39m#Edge(4, 5),\u001b[39;00m\n\u001b[0;32m     18\u001b[0m     \u001b[39m#Edge(4, 6)\u001b[39;00m\n\u001b[0;32m     19\u001b[0m ]\n\u001b[0;32m     21\u001b[0m tree \u001b[39m=\u001b[39m SyntacticTree(NodeWords, Edges, \u001b[39m2\u001b[39m, \u001b[39m\"\u001b[39m\u001b[39mКрасивый мальчик пошёл гулять\u001b[39m\u001b[39m\"\u001b[39m)\n",
      "\u001b[1;31mTypeError\u001b[0m: 'Edge' object is not callable"
     ]
    }
   ],
   "source": [
    "NodeWords = [\n",
    "    NodeWord(Word(\"Красивый\"), 0),\n",
    "    NodeWord(Word(\"мальчик\"), 1),\n",
    "    NodeWord(Word(\"пошёл\"), 2),\n",
    "    NodeWord(Word(\"в\"), 3),\n",
    "    NodeWord(Word(\"парк\"), 4)\n",
    "    #NodeWord(Word(\"test1\"), 5),\n",
    "    #NodeWord(Word(\"test2\"), 6)\n",
    "]\n",
    "\n",
    "# Создаём список рёбер\n",
    "Edges = [\n",
    "    Edge(2, 1),\n",
    "    Edge(2, 3),\n",
    "    Edge(3, 4),\n",
    "    Edge(1, 0)\n",
    "    #Edge(4, 5),\n",
    "    #Edge(4, 6)\n",
    "]\n",
    "\n",
    "tree = SyntacticTree(NodeWords, Edges, 2, \"Красивый мальчик пошёл гулять\")\n",
    "\n",
    "owner = 2\n",
    "owner = tree.list_NodeWord[owner].index\n",
    "servants = []\n",
    "for Edge in tree.list_Edge:\n",
    "    if Edge.start == owner:\n",
    "        servants.append(Edge.end)\n",
    "\n",
    "if len(servants) > 0:\n",
    "    subtrees = []\n",
    "    sub_servants = servants\n",
    "    for i_owner in servants:\n",
    "        sub_servants = get_subtrees(tree, i_owner)\n",
    "        #subtrees.append(get_combinations(sub_servants))\n",
    "        subtrees.extend(sub_servants)\n",
    "else:\n",
    "    subtrees = []\n",
    "\n",
    "servants"
   ]
  },
  {
   "cell_type": "code",
   "execution_count": 3,
   "metadata": {},
   "outputs": [
    {
     "data": {
      "text/plain": [
       "[[], 4]"
      ]
     },
     "execution_count": 3,
     "metadata": {},
     "output_type": "execute_result"
    }
   ],
   "source": [
    "get_subtrees(tree, 4)"
   ]
  },
  {
   "cell_type": "code",
   "execution_count": 10,
   "metadata": {},
   "outputs": [
    {
     "name": "stdout",
     "output_type": "stream",
     "text": [
      "[[1], [3], [2], [1, 3], [1, 2], [2, 3], [1, 2, 3]]\n"
     ]
    }
   ],
   "source": [
    "from itertools import combinations\n",
    "\n",
    "def get_combinations(numbers):\n",
    "    combinations_list = []  # Renamed to avoid confusion with the function\n",
    "    for i in range(1, len(numbers) + 1):\n",
    "        for combination in combinations(numbers, i):\n",
    "            combinations_list.append(sorted(combination))  # Use the function now\n",
    "    return combinations_list\n",
    "\n",
    "# Пример использования\n",
    "numbers = [1, 3, 2]\n",
    "combinations = get_combinations(numbers)\n",
    "print(combinations)"
   ]
  },
  {
   "cell_type": "code",
   "execution_count": 134,
   "metadata": {},
   "outputs": [
    {
     "data": {
      "text/plain": [
       "[(1, 3), (1, 2), (1, 5), (3, 2), (3, 5), (2, 5)]"
      ]
     },
     "execution_count": 134,
     "metadata": {},
     "output_type": "execute_result"
    }
   ],
   "source": [
    "from itertools import combinations\n",
    "list(combinations([1, 3, 2, 5], 2))"
   ]
  },
  {
   "cell_type": "code",
   "execution_count": null,
   "metadata": {},
   "outputs": [],
   "source": []
  }
 ],
 "metadata": {
  "kernelspec": {
   "display_name": "Python 3",
   "language": "python",
   "name": "python3"
  },
  "language_info": {
   "codemirror_mode": {
    "name": "ipython",
    "version": 3
   },
   "file_extension": ".py",
   "mimetype": "text/x-python",
   "name": "python",
   "nbconvert_exporter": "python",
   "pygments_lexer": "ipython3",
   "version": "3.12.2"
  },
  "orig_nbformat": 4
 },
 "nbformat": 4,
 "nbformat_minor": 2
}
