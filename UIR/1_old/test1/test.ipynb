{
 "cells": [
  {
   "cell_type": "code",
   "execution_count": 1,
   "metadata": {},
   "outputs": [],
   "source": [
    "from help_classes import Word, NodeWord, Edge, SyntacticGroup, SyntacticTree, SystemSyntacticGroup"
   ]
  },
  {
   "cell_type": "code",
   "execution_count": 2,
   "metadata": {},
   "outputs": [],
   "source": [
    "list_NodeWord = []\n",
    "\n",
    "list_NodeWord.append(NodeWord(Word('Волга'), 0))\n",
    "list_NodeWord.append(NodeWord(Word('впадает'), 1))\n",
    "list_NodeWord.append(NodeWord(Word('в'), 2))\n",
    "list_NodeWord.append(NodeWord(Word('Каспийское'), 3))\n",
    "list_NodeWord.append(NodeWord(Word('море'), 4))\n",
    "\n",
    "list_Edge = []\n",
    "\n",
    "list_Edge.append(Edge(1, 0))\n",
    "list_Edge.append(Edge(1, 2))\n",
    "list_Edge.append(Edge(2, 4))\n",
    "list_Edge.append(Edge(4, 3))\n",
    "\n",
    "syntTree = SyntacticTree(list_NodeWord, list_Edge, 1)"
   ]
  },
  {
   "cell_type": "code",
   "execution_count": 3,
   "metadata": {},
   "outputs": [
    {
     "data": {
      "text/plain": [
       "[Волга, впадает, в, Каспийское, море]"
      ]
     },
     "execution_count": 3,
     "metadata": {},
     "output_type": "execute_result"
    }
   ],
   "source": [
    "syntTree.list_NodeWord"
   ]
  },
  {
   "cell_type": "code",
   "execution_count": 4,
   "metadata": {},
   "outputs": [
    {
     "data": {
      "text/plain": [
       "Волга"
      ]
     },
     "execution_count": 4,
     "metadata": {},
     "output_type": "execute_result"
    }
   ],
   "source": [
    "syntTree.list_NodeWord[0].word"
   ]
  },
  {
   "cell_type": "code",
   "execution_count": 5,
   "metadata": {},
   "outputs": [
    {
     "data": {
      "text/plain": [
       "[(1, 0), (1, 2), (2, 4), (4, 3)]"
      ]
     },
     "execution_count": 5,
     "metadata": {},
     "output_type": "execute_result"
    }
   ],
   "source": [
    "syntTree.list_Edge"
   ]
  },
  {
   "cell_type": "code",
   "execution_count": 6,
   "metadata": {},
   "outputs": [
    {
     "ename": "AttributeError",
     "evalue": "'SyntacticTree' object has no attribute 'list_Word'",
     "output_type": "error",
     "traceback": [
      "\u001b[1;31m---------------------------------------------------------------------------\u001b[0m",
      "\u001b[1;31mAttributeError\u001b[0m                            Traceback (most recent call last)",
      "Cell \u001b[1;32mIn[6], line 2\u001b[0m\n\u001b[0;32m      1\u001b[0m edge \u001b[39m=\u001b[39m syntTree\u001b[39m.\u001b[39mlist_Edge[\u001b[39m0\u001b[39m]\n\u001b[1;32m----> 2\u001b[0m list_Word \u001b[39m=\u001b[39m [syntTree\u001b[39m.\u001b[39;49mlist_Word[edge\u001b[39m.\u001b[39mstart], syntTree\u001b[39m.\u001b[39mlist_Word[edge\u001b[39m.\u001b[39mend]]\n\u001b[0;32m      3\u001b[0m list_Word\n",
      "\u001b[1;31mAttributeError\u001b[0m: 'SyntacticTree' object has no attribute 'list_Word'"
     ]
    }
   ],
   "source": [
    "edge = syntTree.list_Edge[0]\n",
    "list_Word = [syntTree.list_Word[edge.start], syntTree.list_Word[edge.end]]\n",
    "list_Word"
   ]
  },
  {
   "cell_type": "code",
   "execution_count": null,
   "metadata": {},
   "outputs": [],
   "source": [
    "list_NodeWord = syntTree.list_NodeWord #B0 and D0"
   ]
  },
  {
   "cell_type": "code",
   "execution_count": 217,
   "metadata": {},
   "outputs": [],
   "source": [
    "def get_list_child(syntTree: SyntacticTree, nodeWord: NodeWord):\n",
    "    list_descendant = []\n",
    "\n",
    "    for edge in syntTree.list_Edge:\n",
    "        if edge.start == nodeWord.index:\n",
    "            list_descendant.append(edge.end)\n",
    "\n",
    "    n = len(list_descendant)\n",
    "    if n != 0:\n",
    "        for i in range(n):\n",
    "            nodeWord = syntTree.list_NodeWord[list_descendant[i]]\n",
    "            recursion = get_list_child(syntTree, nodeWord)\n",
    "            if recursion != []:\n",
    "                list_descendant += (recursion)\n",
    "\n",
    "    return list_descendant"
   ]
  },
  {
   "cell_type": "code",
   "execution_count": 218,
   "metadata": {},
   "outputs": [],
   "source": [
    "def get_list_edge_subtree(syntTree: SyntacticTree, subtree: SyntacticTree):\n",
    "  list_edge = []\n",
    "\n",
    "  for edge in syntTree.list_Edge:\n",
    "    if syntTree.list_NodeWord[edge.start] in subtree.list_NodeWord and syntTree.list_NodeWord[edge.end] in subtree.list_NodeWord:\n",
    "      list_edge.append(edge)\n",
    "\n",
    "  return list_edge"
   ]
  },
  {
   "cell_type": "code",
   "execution_count": 231,
   "metadata": {},
   "outputs": [],
   "source": [
    "def get_list_subtree(syntTree: SyntacticTree):\n",
    "    list_subtree = []\n",
    "\n",
    "    for nodeWord in syntTree.list_NodeWord:\n",
    "        subtree = SyntacticTree([], [], nodeWord.index)\n",
    "\n",
    "        subtree.add_NodeWord(nodeWord)\n",
    "\n",
    "        list_child = get_list_child(syntTree, nodeWord)\n",
    "\n",
    "        for child in list_child:\n",
    "            subtree.add_NodeWord(syntTree.list_NodeWord[child])\n",
    "\n",
    "        list_edge = get_list_edge_subtree(syntTree, subtree)\n",
    "\n",
    "        for edge in list_edge:\n",
    "            subtree.add_Edge(edge)\n",
    "\n",
    "        if len(subtree.list_NodeWord) > 1:\n",
    "            list_subtree.append(subtree)\n",
    "\n",
    "    return list_subtree"
   ]
  },
  {
   "cell_type": "code",
   "execution_count": 238,
   "metadata": {},
   "outputs": [
    {
     "data": {
      "text/plain": [
       "[впадает, Волга, в, море, Каспийское]"
      ]
     },
     "execution_count": 238,
     "metadata": {},
     "output_type": "execute_result"
    }
   ],
   "source": [
    "a = get_list_subtree(syntTree)\n",
    "a[0].list_NodeWord"
   ]
  },
  {
   "cell_type": "code",
   "execution_count": null,
   "metadata": {},
   "outputs": [],
   "source": [
    "def get_list_term_2(syntTree: SyntacticTree):\n",
    "    set_subtree = set()\n",
    "\n",
    "    for nodeWord in syntTree.list_NodeWord:\n",
    "        subtree = SyntacticTree([], [], nodeWord.index)\n",
    "\n",
    "        subtree.add_NodeWord(nodeWord)\n",
    "\n",
    "        list_child = get_list_child(syntTree, nodeWord)\n",
    "\n",
    "        for child in list_child:\n",
    "          subtree.add_NodeWord(syntTree.list_NodeWord[child])\n",
    "\n",
    "        list_edge = get_list_edge_subtree(syntTree, subtree)\n",
    "\n",
    "        for edge in list_edge:\n",
    "          subtree.add_Edge(edge)\n",
    "\n",
    "        set_subtree.append(subtree)\n",
    "\n",
    "    return set_subtree"
   ]
  },
  {
   "cell_type": "code",
   "execution_count": 286,
   "metadata": {},
   "outputs": [],
   "source": [
    "def get_list_term_1(syntTree: SyntacticTree, index_node: int):\n",
    "    list_term = []\n",
    "    nodeWord = syntTree.list_NodeWord[index_node]\n",
    "    list_child = []\n",
    "    for edge in syntTree.list_Edge:\n",
    "        if edge.start == nodeWord.index:\n",
    "            list_child.append(edge.end)\n",
    "\n",
    "    if len(list_child) == 0:\n",
    "        return []\n",
    "\n",
    "    term = [nodeWord.index]\n",
    "    for i in range(0, len(list_child)):\n",
    "        buf_term = term.copy()\n",
    "        buf_term.append(list_child[i])\n",
    "        list_term.append(buf_term)\n",
    "        term_rec = get_list_term_1(syntTree, list_child[i])\n",
    "        if len(term_rec) > 0:\n",
    "            for j in range(0, len(term_rec)):\n",
    "                buf_term = list_term[-1] + term_rec[j]\n",
    "                list_term += term_rec\n",
    "\n",
    "    return list_term"
   ]
  },
  {
   "cell_type": "code",
   "execution_count": 287,
   "metadata": {},
   "outputs": [
    {
     "data": {
      "text/plain": [
       "[[1, 0], [1, 2], [2, 4], [4, 3], [2, 4], [4, 3]]"
      ]
     },
     "execution_count": 287,
     "metadata": {},
     "output_type": "execute_result"
    }
   ],
   "source": [
    "a = get_list_term_1(syntTree, 1)\n",
    "a"
   ]
  },
  {
   "cell_type": "code",
   "execution_count": 30,
   "metadata": {},
   "outputs": [
    {
     "data": {
      "text/plain": [
       "[Волга]"
      ]
     },
     "execution_count": 30,
     "metadata": {},
     "output_type": "execute_result"
    }
   ],
   "source": [
    "list_subtree = get_list_subtree(syntTree)\n",
    "list_subtree[0].list_NodeWord"
   ]
  },
  {
   "cell_type": "code",
   "execution_count": null,
   "metadata": {},
   "outputs": [
    {
     "data": {
      "text/plain": [
       "[0, 2, 4, 3]"
      ]
     },
     "execution_count": 57,
     "metadata": {},
     "output_type": "execute_result"
    }
   ],
   "source": [
    "get_list_index_descendant(syntTree, syntTree.list_NodeWord[1])"
   ]
  },
  {
   "cell_type": "code",
   "execution_count": null,
   "metadata": {},
   "outputs": [],
   "source": [
    "def get_list_subtree(syntTree: SyntacticTree, start: int):\n",
    "    subtree = SyntacticTree()\n",
    "    subtree.add_Word(syntTree.list_Word[list_index[i]])"
   ]
  },
  {
   "cell_type": "code",
   "execution_count": null,
   "metadata": {},
   "outputs": [],
   "source": [
    "def get_list_combination_word(syntTree: SyntacticTree):\n",
    "    list_subtree = []\n",
    "    for i in len(syntTree.add_Edge):\n",
    "        edge = syntTree.list_Edge[i]\n",
    "        list_Word = [syntTree.list_Word[edge.start], syntTree.list_Word[edge.end]]\n",
    "        list_subtree.append(syn)"
   ]
  },
  {
   "cell_type": "code",
   "execution_count": null,
   "metadata": {},
   "outputs": [],
   "source": [
    "from typing import Set, Tuple"
   ]
  },
  {
   "cell_type": "code",
   "execution_count": 55,
   "metadata": {},
   "outputs": [],
   "source": [
    "def get_descendants(syntTree: SyntacticTree, index: int):\n",
    "    # Создадим множество всех потомков.\n",
    "    descendants = []\n",
    "\n",
    "    # Для каждого ребра в дереве проверим, является ли один из его концов\n",
    "    # данным узлом.\n",
    "    for edge in syntTree.list_Edge:\n",
    "        if edge.start == index:\n",
    "            # Если другой конец ребра - потомок, добавим его в множество.\n",
    "            descendants.append(edge.end)\n",
    "\n",
    "    # Для каждого потомка рекурсивно найдем его потомков и добавим их в множество.\n",
    "    for descendant in descendants:\n",
    "        descendants.append(get_descendants(syntTree, descendant))\n",
    "\n",
    "    # Вернем множество потомков.\n",
    "    return descendants"
   ]
  },
  {
   "cell_type": "code",
   "execution_count": 56,
   "metadata": {},
   "outputs": [],
   "source": [
    "def get_descendant_subgraphs_as_index_lists(syntTree: SyntacticTree, index_list: list[int]):\n",
    "    list_temp = []\n",
    "\n",
    "    index = index_list[0]\n",
    "\n",
    "    # Создадим список всех потомков данного узла.\n",
    "    descendants = get_descendants(syntTree, index)\n",
    "\n",
    "    # Для каждого потомка данного узла найдем все подграфы, содержащие данного потомка.\n",
    "    for descendant in descendants:\n",
    "        # Создадим список с индексом данного потомка и индексами всех его потомков.\n",
    "        descendant_index_list = [descendant] + get_descendants(syntTree, descendant)\n",
    "\n",
    "        # Найдем все подграфы, содержащие данного потомка.\n",
    "        descendant_subgraphs = get_descendant_subgraphs_as_index_lists(syntTree, descendant_index_list)\n",
    "\n",
    "        # Добавим все подграфы, содержащие данного потомка, в множество.\n",
    "        list_temp.append(descendant_subgraphs)\n",
    "\n",
    "    # Создадим подграф, содержащий данный узел и всех его потомков.\n",
    "    subgraph = [syntTree.list_NodeWord[index].index] + [syntTree.list_NodeWord[descendant].index for descendant in descendants]\n",
    "\n",
    "    # Добавим подграф в множество.\n",
    "    list_temp.append(subgraph)\n",
    "\n",
    "    # Вернем множество всех подграфов.\n",
    "    return list_temp"
   ]
  },
  {
   "cell_type": "code",
   "execution_count": 57,
   "metadata": {},
   "outputs": [],
   "source": [
    "def get_all_subgraphs_as_index_lists(syntTree: SyntacticTree):\n",
    "\n",
    "    # Создадим множество всех подграфов.\n",
    "    list_temp = []\n",
    "\n",
    "    # Для каждого узла в дереве найдем все его подграфы.\n",
    "    for nodeWord in syntTree.list_NodeWord:\n",
    "        # Получим индекс узла.\n",
    "        index = nodeWord.index\n",
    "\n",
    "        # Создадим список с индексом узла.\n",
    "        index_list = [index]\n",
    "\n",
    "        # Создадим новый подграф с одним узлом.\n",
    "        subgraph = index_list\n",
    "\n",
    "        # Добавим подграф в множество.\n",
    "        list_temp.append(subgraph)\n",
    "\n",
    "        # Найдем все подграфы, содержащие данный узел.\n",
    "        descendant_subgraphs = get_descendant_subgraphs_as_index_lists(syntTree, index_list)\n",
    "\n",
    "        # Добавим все подграфы, содержащие данный узел, в множество.\n",
    "        list_temp.append(descendant_subgraphs)\n",
    "\n",
    "    # Вернем множество всех подграфов.\n",
    "    return list_temp"
   ]
  },
  {
   "cell_type": "code",
   "execution_count": 3,
   "metadata": {},
   "outputs": [],
   "source": [
    "from typing import Any\n",
    "\n",
    "\n",
    "class Word:\n",
    "    def __init__(self, word, initial_form_word=None, part_speech=None, time=None, genus=None, number=None, case=None, animacy=None,\n",
    "                comparison=None, brevity=None, representation=None, inclination=None, aspect=None, face=None, voice=None, additional_feature=None) -> None:\n",
    "        self.word = word #слово\n",
    "        self.initial_form_word = initial_form_word #начальная форма слова\n",
    "        self.part_speech = part_speech #часть речи\n",
    "        self.time = time #время\n",
    "        self.genus = genus #род\n",
    "        self.number = number #число\n",
    "        self.case = case #падеж\n",
    "        self.animacy = animacy #одушевлённость\n",
    "        self.comparison = comparison #сравнение\n",
    "        self.brevity = brevity #краткость\n",
    "        self.representation = representation #репрезентация\n",
    "        self.inclination = inclination #наклонение\n",
    "        self.aspect = aspect #вид\n",
    "        self.face = face #лицо\n",
    "        self.voice = voice #залог\n",
    "        self.additional_feature = additional_feature #дополнительные характеристики\n",
    "\n",
    "    def __repr__(self):\n",
    "        return f\"{self.word}\"\n",
    "\n",
    "class NodeWord:\n",
    "    def __init__(self, word: Word, index: int) -> None:\n",
    "        self.word = word\n",
    "        self.index = index\n",
    "\n",
    "    def __repr__(self):\n",
    "        return f\"{self.word}\"\n",
    "\n",
    "class Edge:\n",
    "    def __init__(self, start, end, mark=None) -> None:\n",
    "        self.start = start\n",
    "        self.end = end\n",
    "        self.mark = mark\n",
    "\n",
    "    def __repr__(self):\n",
    "        return f\"({self.start}, {self.end})\"\n",
    "\n",
    "class SyntacticTree:\n",
    "    def __init__(self, list_NodeWord, list_Edge, root: int, sentence: str) -> None:\n",
    "        self.list_NodeWord = list_NodeWord\n",
    "        self.list_Edge = list_Edge\n",
    "        self.root = root\n",
    "        self.sentence = sentence"
   ]
  },
  {
   "cell_type": "code",
   "execution_count": 26,
   "metadata": {},
   "outputs": [
    {
     "ename": "TypeError",
     "evalue": "'NoneType' object is not iterable",
     "output_type": "error",
     "traceback": [
      "\u001b[1;31m---------------------------------------------------------------------------\u001b[0m",
      "\u001b[1;31mTypeError\u001b[0m                                 Traceback (most recent call last)",
      "Cell \u001b[1;32mIn[26], line 48\u001b[0m\n\u001b[0;32m     45\u001b[0m tree \u001b[39m=\u001b[39m SyntacticTree(list_NodeWord, list_Edge, \u001b[39m2\u001b[39m, \u001b[39m\"\u001b[39m\u001b[39mКрасивый мальчик пошёл гулять\u001b[39m\u001b[39m\"\u001b[39m)\n\u001b[0;32m     47\u001b[0m \u001b[39m# Выводим все подграфы\u001b[39;00m\n\u001b[1;32m---> 48\u001b[0m subgraphs \u001b[39m=\u001b[39m all_subgraphs(tree)\n\u001b[0;32m     49\u001b[0m \u001b[39mprint\u001b[39m(subgraphs)\n",
      "Cell \u001b[1;32mIn[26], line 20\u001b[0m, in \u001b[0;36mall_subgraphs\u001b[1;34m(tree)\u001b[0m\n\u001b[0;32m     18\u001b[0m subgraphs \u001b[39m=\u001b[39m []\n\u001b[0;32m     19\u001b[0m \u001b[39mfor\u001b[39;00m node \u001b[39min\u001b[39;00m \u001b[39mrange\u001b[39m(\u001b[39mlen\u001b[39m(tree\u001b[39m.\u001b[39mlist_NodeWord)):\n\u001b[1;32m---> 20\u001b[0m     \u001b[39mfor\u001b[39;49;00m subgraph \u001b[39min\u001b[39;49;00m dfs(tree, node):\n\u001b[0;32m     21\u001b[0m         \u001b[39mif\u001b[39;49;00m \u001b[39mlen\u001b[39;49m(subgraph) \u001b[39m>\u001b[39;49m \u001b[39m1\u001b[39;49m \u001b[39mand\u001b[39;49;00m \u001b[39mlen\u001b[39;49m(subgraph) \u001b[39m<\u001b[39;49m \u001b[39mlen\u001b[39;49m(tree\u001b[39m.\u001b[39;49mlist_NodeWord):\n\u001b[0;32m     22\u001b[0m             \u001b[39mprint\u001b[39;49m(subgraph)\n",
      "\u001b[1;31mTypeError\u001b[0m: 'NoneType' object is not iterable"
     ]
    }
   ],
   "source": [
    "from collections import deque\n",
    "\n",
    "def dfs(tree: SyntacticTree, start: int):\n",
    "    visited = set()\n",
    "    stack = deque([start])\n",
    "\n",
    "    while stack:\n",
    "        node = stack.pop()\n",
    "        #if node not in visited:\n",
    "        visited.add(node)\n",
    "        yield list(visited)\n",
    "        for edge in tree.list_Edge:\n",
    "            #print(edge)\n",
    "            if edge.start == node:\n",
    "                stack.append(edge.end)\n",
    "\n",
    "def all_subgraphs(tree: SyntacticTree):\n",
    "    subgraphs = []\n",
    "    for node in range(len(tree.list_NodeWord)):\n",
    "        for subgraph in dfs(tree, node):\n",
    "            if len(subgraph) > 1 and len(subgraph) < len(tree.list_NodeWord):\n",
    "                print(subgraph)\n",
    "                subgraphs.append(subgraph)\n",
    "    return subgraphs\n",
    "\n",
    "# Пример использования\n",
    "# Создаём список узлов слов\n",
    "list_NodeWord = [\n",
    "    NodeWord(Word(\"Красивый\"), 0),\n",
    "    NodeWord(Word(\"мальчик\"), 1),\n",
    "    NodeWord(Word(\"пошёл\"), 2),\n",
    "    NodeWord(Word(\"в\"), 3),\n",
    "    NodeWord(Word(\"парк\"), 4),\n",
    "]\n",
    "\n",
    "# Создаём список рёбер\n",
    "list_Edge = [\n",
    "    Edge(2, 1),\n",
    "    Edge(2, 3),\n",
    "    Edge(3, 4),\n",
    "    Edge(1, 0),\n",
    "]\n",
    "\n",
    "# Создаём синтаксическое дерево\n",
    "tree = SyntacticTree(list_NodeWord, list_Edge, 2, \"Красивый мальчик пошёл гулять\")\n",
    "\n",
    "# Выводим все подграфы\n",
    "subgraphs = all_subgraphs(tree)\n",
    "print(subgraphs)"
   ]
  },
  {
   "cell_type": "code",
   "execution_count": null,
   "metadata": {},
   "outputs": [],
   "source": []
  }
 ],
 "metadata": {
  "kernelspec": {
   "display_name": "Python 3",
   "language": "python",
   "name": "python3"
  },
  "language_info": {
   "codemirror_mode": {
    "name": "ipython",
    "version": 3
   },
   "file_extension": ".py",
   "mimetype": "text/x-python",
   "name": "python",
   "nbconvert_exporter": "python",
   "pygments_lexer": "ipython3",
   "version": "3.12.2"
  },
  "orig_nbformat": 4
 },
 "nbformat": 4,
 "nbformat_minor": 2
}
